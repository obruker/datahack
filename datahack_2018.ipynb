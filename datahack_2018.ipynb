{
 "cells": [
  {
   "cell_type": "markdown",
   "metadata": {},
   "source": [
    "# Lightricks Challenge - DataHack 2018"
   ]
  },
  {
   "cell_type": "code",
   "execution_count": 1,
   "metadata": {},
   "outputs": [],
   "source": [
    "import os\n",
    "import sys\n",
    "import operator\n",
    "import numpy as np\n",
    "import pandas as pd\n",
    "import scipy\n",
    "import dateutil\n",
    "from sklearn.model_selection import train_test_split,KFold\n",
    "from sklearn import metrics\n",
    "from sklearn.metrics import confusion_matrix, classification_report, f1_score\n",
    "from sklearn import tree\n",
    "from sklearn import linear_model\n",
    "from sklearn import ensemble\n",
    "import seaborn as sns\n",
    "import matplotlib.pyplot as plt\n",
    "import csv"
   ]
  },
  {
   "cell_type": "code",
   "execution_count": 2,
   "metadata": {},
   "outputs": [],
   "source": [
    "path = './'\n",
    "teamname = 'g452'\n",
    "out_name = path + teamname + '_submission.csv'"
   ]
  },
  {
   "cell_type": "code",
   "execution_count": 3,
   "metadata": {},
   "outputs": [],
   "source": [
    "df_usage = pd.read_csv(path + \"train_usage_data.csv\")"
   ]
  },
  {
   "cell_type": "code",
   "execution_count": 4,
   "metadata": {},
   "outputs": [
    {
     "name": "stdout",
     "output_type": "stream",
     "text": [
      "<class 'pandas.core.frame.DataFrame'>\n",
      "RangeIndex: 263814 entries, 0 to 263813\n",
      "Data columns (total 5 columns):\n",
      "id                263814 non-null int64\n",
      "feature_name      263814 non-null object\n",
      "usage_duration    263814 non-null float64\n",
      "end_use_date      263814 non-null object\n",
      "accepted          263814 non-null bool\n",
      "dtypes: bool(1), float64(1), int64(1), object(2)\n",
      "memory usage: 8.3+ MB\n"
     ]
    }
   ],
   "source": [
    "#Looking data format and types\n",
    "df_usage.info()"
   ]
  },
  {
   "cell_type": "markdown",
   "metadata": {},
   "source": [
    "The user population is all users who subscribed in April and **didn't** churn (cancel their subscription) within the seven first days after subscription.\n",
    "\n",
    "The dataframe \"df_usage\" contains the user activity in the 7 first days after subscription.\n",
    "\n",
    "The variables in dataframe \"df_usage\" are:\n",
    "\n",
    "| Field name   | Description | \n",
    "|----------|-------------|\n",
    "| id | User ID |\n",
    "| feature_name | Name of feature used |\n",
    "| usage_duration | Duration in seconds between feature was entered and accepted or canceled |\n",
    "| end_use_date | Date and time when the feature use was ended (accepted or canceled) |\n",
    "| accepted | True if the user accepted the changes by the feature and False if he did not accepted the changes |"
   ]
  },
  {
   "cell_type": "code",
   "execution_count": 5,
   "metadata": {},
   "outputs": [
    {
     "data": {
      "text/html": [
       "<div>\n",
       "<style scoped>\n",
       "    .dataframe tbody tr th:only-of-type {\n",
       "        vertical-align: middle;\n",
       "    }\n",
       "\n",
       "    .dataframe tbody tr th {\n",
       "        vertical-align: top;\n",
       "    }\n",
       "\n",
       "    .dataframe thead th {\n",
       "        text-align: right;\n",
       "    }\n",
       "</style>\n",
       "<table border=\"1\" class=\"dataframe\">\n",
       "  <thead>\n",
       "    <tr style=\"text-align: right;\">\n",
       "      <th></th>\n",
       "      <th>id</th>\n",
       "      <th>feature_name</th>\n",
       "      <th>usage_duration</th>\n",
       "      <th>end_use_date</th>\n",
       "      <th>accepted</th>\n",
       "    </tr>\n",
       "  </thead>\n",
       "  <tbody>\n",
       "    <tr>\n",
       "      <th>0</th>\n",
       "      <td>30000429392689</td>\n",
       "      <td>Relight</td>\n",
       "      <td>5.659</td>\n",
       "      <td>2018-04-10 11:18:16</td>\n",
       "      <td>False</td>\n",
       "    </tr>\n",
       "    <tr>\n",
       "      <th>1</th>\n",
       "      <td>440000407817536</td>\n",
       "      <td>Crop</td>\n",
       "      <td>0.984</td>\n",
       "      <td>2018-04-06 16:44:19</td>\n",
       "      <td>False</td>\n",
       "    </tr>\n",
       "    <tr>\n",
       "      <th>2</th>\n",
       "      <td>540000265662400</td>\n",
       "      <td>Crop</td>\n",
       "      <td>1.583</td>\n",
       "      <td>2018-04-21 18:46:24</td>\n",
       "      <td>False</td>\n",
       "    </tr>\n",
       "    <tr>\n",
       "      <th>3</th>\n",
       "      <td>220000444951653</td>\n",
       "      <td>Vignette</td>\n",
       "      <td>4.668</td>\n",
       "      <td>2018-04-30 14:11:22</td>\n",
       "      <td>False</td>\n",
       "    </tr>\n",
       "    <tr>\n",
       "      <th>4</th>\n",
       "      <td>220000444725338</td>\n",
       "      <td>Retouch</td>\n",
       "      <td>185.154</td>\n",
       "      <td>2018-04-29 23:37:34</td>\n",
       "      <td>False</td>\n",
       "    </tr>\n",
       "  </tbody>\n",
       "</table>\n",
       "</div>"
      ],
      "text/plain": [
       "                id feature_name  usage_duration         end_use_date  accepted\n",
       "0   30000429392689      Relight           5.659  2018-04-10 11:18:16     False\n",
       "1  440000407817536         Crop           0.984  2018-04-06 16:44:19     False\n",
       "2  540000265662400         Crop           1.583  2018-04-21 18:46:24     False\n",
       "3  220000444951653     Vignette           4.668  2018-04-30 14:11:22     False\n",
       "4  220000444725338      Retouch         185.154  2018-04-29 23:37:34     False"
      ]
     },
     "execution_count": 5,
     "metadata": {},
     "output_type": "execute_result"
    }
   ],
   "source": [
    "df_usage.head()"
   ]
  },
  {
   "cell_type": "code",
   "execution_count": 6,
   "metadata": {},
   "outputs": [],
   "source": [
    "df_users = pd.read_csv(path + \"train_users_data.csv\",parse_dates = [ 'installation_date','subscripiton_date'])"
   ]
  },
  {
   "cell_type": "code",
   "execution_count": 7,
   "metadata": {},
   "outputs": [
    {
     "name": "stdout",
     "output_type": "stream",
     "text": [
      "<class 'pandas.core.frame.DataFrame'>\n",
      "RangeIndex: 6998 entries, 0 to 6997\n",
      "Data columns (total 10 columns):\n",
      "Unnamed: 0             6998 non-null int64\n",
      "id                     6998 non-null int64\n",
      "installation_date      6998 non-null datetime64[ns]\n",
      "subscripiton_date      6998 non-null datetime64[ns]\n",
      "country                6996 non-null object\n",
      "initial_app_version    6998 non-null object\n",
      "initial_ios_version    6998 non-null object\n",
      "initial_device         6998 non-null object\n",
      "days_until_churn       3220 non-null float64\n",
      "churned                6998 non-null int64\n",
      "dtypes: datetime64[ns](2), float64(1), int64(3), object(4)\n",
      "memory usage: 546.8+ KB\n"
     ]
    }
   ],
   "source": [
    "df_users.info()"
   ]
  },
  {
   "cell_type": "markdown",
   "metadata": {},
   "source": [
    "The variables in dataframe \"df_users\" are:\n",
    "\n",
    "| Field name   | Description | \n",
    "|----------|-------------|\n",
    "| id | User ID |\n",
    "| installation_date | Date and time when the application was first installed |\n",
    "| subscription_date | Date and time when the user joined as a subscriber |\n",
    "| country | Country where the user is based |\n",
    "| initial_app_version | The application version at the installation date |\n",
    "| initial_ios_version | The iOS version at the installation date |\n",
    "| initial_device |  Device model at the installation date |\n",
    "| days_until_churned | Days before the user decided to leave the subscription (churn). NaN if the user has not churned at all by the date when the data was queried |\n",
    "| churned | **False if the user is still a subscriber at day 28 and True if the user canceled his subscription between day 8 and day 28.** |"
   ]
  },
  {
   "cell_type": "code",
   "execution_count": 8,
   "metadata": {},
   "outputs": [
    {
     "data": {
      "text/html": [
       "<div>\n",
       "<style scoped>\n",
       "    .dataframe tbody tr th:only-of-type {\n",
       "        vertical-align: middle;\n",
       "    }\n",
       "\n",
       "    .dataframe tbody tr th {\n",
       "        vertical-align: top;\n",
       "    }\n",
       "\n",
       "    .dataframe thead th {\n",
       "        text-align: right;\n",
       "    }\n",
       "</style>\n",
       "<table border=\"1\" class=\"dataframe\">\n",
       "  <thead>\n",
       "    <tr style=\"text-align: right;\">\n",
       "      <th></th>\n",
       "      <th>id</th>\n",
       "      <th>installation_date</th>\n",
       "      <th>subscripiton_date</th>\n",
       "      <th>country</th>\n",
       "      <th>initial_app_version</th>\n",
       "      <th>initial_ios_version</th>\n",
       "      <th>initial_device</th>\n",
       "      <th>days_until_churn</th>\n",
       "      <th>churned</th>\n",
       "    </tr>\n",
       "  </thead>\n",
       "  <tbody>\n",
       "    <tr>\n",
       "      <th>0</th>\n",
       "      <td>100000415577994</td>\n",
       "      <td>2017-07-16 22:29:31</td>\n",
       "      <td>2018-04-01 01:35:58</td>\n",
       "      <td>Canada</td>\n",
       "      <td>1.9.1</td>\n",
       "      <td>11.2.5</td>\n",
       "      <td>UIDeviceKindIPhoneX</td>\n",
       "      <td>NaN</td>\n",
       "      <td>0</td>\n",
       "    </tr>\n",
       "    <tr>\n",
       "      <th>1</th>\n",
       "      <td>100000415580508</td>\n",
       "      <td>2016-12-19 14:28:03</td>\n",
       "      <td>2018-04-01 01:45:40</td>\n",
       "      <td>New Zealand</td>\n",
       "      <td>1.7.5</td>\n",
       "      <td>11.2.1</td>\n",
       "      <td>UIDeviceKindIPhoneX</td>\n",
       "      <td>136.0</td>\n",
       "      <td>0</td>\n",
       "    </tr>\n",
       "    <tr>\n",
       "      <th>2</th>\n",
       "      <td>100000415636784</td>\n",
       "      <td>2017-02-09 00:48:33</td>\n",
       "      <td>2018-04-01 05:15:46</td>\n",
       "      <td>United States</td>\n",
       "      <td>1.6</td>\n",
       "      <td>10.3.3</td>\n",
       "      <td>UIDeviceKindIPhone6S</td>\n",
       "      <td>70.0</td>\n",
       "      <td>0</td>\n",
       "    </tr>\n",
       "    <tr>\n",
       "      <th>3</th>\n",
       "      <td>100000415750897</td>\n",
       "      <td>2017-12-07 16:03:47</td>\n",
       "      <td>2018-04-01 13:27:22</td>\n",
       "      <td>Turkey</td>\n",
       "      <td>1.9.5</td>\n",
       "      <td>11.2.6</td>\n",
       "      <td>UIDeviceKindIPhone5S</td>\n",
       "      <td>NaN</td>\n",
       "      <td>0</td>\n",
       "    </tr>\n",
       "    <tr>\n",
       "      <th>4</th>\n",
       "      <td>100000415825030</td>\n",
       "      <td>2017-12-01 14:59:29</td>\n",
       "      <td>2018-04-01 17:23:33</td>\n",
       "      <td>United States</td>\n",
       "      <td>1.9.5</td>\n",
       "      <td>11.2.6</td>\n",
       "      <td>UIDeviceKindIPhone8</td>\n",
       "      <td>9.0</td>\n",
       "      <td>1</td>\n",
       "    </tr>\n",
       "  </tbody>\n",
       "</table>\n",
       "</div>"
      ],
      "text/plain": [
       "                id   installation_date   subscripiton_date        country  \\\n",
       "0  100000415577994 2017-07-16 22:29:31 2018-04-01 01:35:58         Canada   \n",
       "1  100000415580508 2016-12-19 14:28:03 2018-04-01 01:45:40    New Zealand   \n",
       "2  100000415636784 2017-02-09 00:48:33 2018-04-01 05:15:46  United States   \n",
       "3  100000415750897 2017-12-07 16:03:47 2018-04-01 13:27:22         Turkey   \n",
       "4  100000415825030 2017-12-01 14:59:29 2018-04-01 17:23:33  United States   \n",
       "\n",
       "  initial_app_version initial_ios_version        initial_device  \\\n",
       "0               1.9.1              11.2.5   UIDeviceKindIPhoneX   \n",
       "1               1.7.5              11.2.1   UIDeviceKindIPhoneX   \n",
       "2                 1.6              10.3.3  UIDeviceKindIPhone6S   \n",
       "3               1.9.5              11.2.6  UIDeviceKindIPhone5S   \n",
       "4               1.9.5              11.2.6   UIDeviceKindIPhone8   \n",
       "\n",
       "   days_until_churn  churned  \n",
       "0               NaN        0  \n",
       "1             136.0        0  \n",
       "2              70.0        0  \n",
       "3               NaN        0  \n",
       "4               9.0        1  "
      ]
     },
     "execution_count": 8,
     "metadata": {},
     "output_type": "execute_result"
    }
   ],
   "source": [
    "df_users = df_users.drop(columns='Unnamed: 0')\n",
    "df_users.head()"
   ]
  },
  {
   "cell_type": "markdown",
   "metadata": {},
   "source": [
    "# Data exploration:"
   ]
  },
  {
   "cell_type": "code",
   "execution_count": 9,
   "metadata": {},
   "outputs": [
    {
     "data": {
      "text/plain": [
       "<matplotlib.axes._subplots.AxesSubplot at 0x104792dd8>"
      ]
     },
     "execution_count": 9,
     "metadata": {},
     "output_type": "execute_result"
    },
    {
     "data": {
      "image/png": "[encoded data removed]",
      "text/plain": [
       "<Figure size 432x288 with 1 Axes>"
      ]
     },
     "metadata": {
      "needs_background": "light"
     },
     "output_type": "display_data"
    }
   ],
   "source": [
    "df_users['churned'].value_counts().plot('bar')"
   ]
  },
  {
   "cell_type": "code",
   "execution_count": 10,
   "metadata": {},
   "outputs": [],
   "source": [
    "joined_df = df_usage.join(df_users.set_index('id'),on='id')"
   ]
  },
  {
   "cell_type": "code",
   "execution_count": 11,
   "metadata": {},
   "outputs": [
    {
     "data": {
      "text/html": [
       "<div>\n",
       "<style scoped>\n",
       "    .dataframe tbody tr th:only-of-type {\n",
       "        vertical-align: middle;\n",
       "    }\n",
       "\n",
       "    .dataframe tbody tr th {\n",
       "        vertical-align: top;\n",
       "    }\n",
       "\n",
       "    .dataframe thead th {\n",
       "        text-align: right;\n",
       "    }\n",
       "</style>\n",
       "<table border=\"1\" class=\"dataframe\">\n",
       "  <thead>\n",
       "    <tr style=\"text-align: right;\">\n",
       "      <th></th>\n",
       "      <th>id</th>\n",
       "      <th>feature_name</th>\n",
       "      <th>usage_duration</th>\n",
       "      <th>end_use_date</th>\n",
       "      <th>accepted</th>\n",
       "      <th>installation_date</th>\n",
       "      <th>subscripiton_date</th>\n",
       "      <th>country</th>\n",
       "      <th>initial_app_version</th>\n",
       "      <th>initial_ios_version</th>\n",
       "      <th>initial_device</th>\n",
       "      <th>days_until_churn</th>\n",
       "      <th>churned</th>\n",
       "    </tr>\n",
       "  </thead>\n",
       "  <tbody>\n",
       "    <tr>\n",
       "      <th>0</th>\n",
       "      <td>30000429392689</td>\n",
       "      <td>Relight</td>\n",
       "      <td>5.659</td>\n",
       "      <td>2018-04-10 11:18:16</td>\n",
       "      <td>False</td>\n",
       "      <td>2018-02-26 07:01:08</td>\n",
       "      <td>2018-04-08 09:38:19</td>\n",
       "      <td>Australia</td>\n",
       "      <td>1.9.6</td>\n",
       "      <td>11.2.6</td>\n",
       "      <td>UIDeviceKindIPhoneX</td>\n",
       "      <td>NaN</td>\n",
       "      <td>0</td>\n",
       "    </tr>\n",
       "    <tr>\n",
       "      <th>1</th>\n",
       "      <td>440000407817536</td>\n",
       "      <td>Crop</td>\n",
       "      <td>0.984</td>\n",
       "      <td>2018-04-06 16:44:19</td>\n",
       "      <td>False</td>\n",
       "      <td>2017-07-21 20:04:15</td>\n",
       "      <td>2018-04-05 22:39:32</td>\n",
       "      <td>United Kingdom</td>\n",
       "      <td>1.9.6</td>\n",
       "      <td>11.2.5</td>\n",
       "      <td>UIDeviceKindIPhoneX</td>\n",
       "      <td>NaN</td>\n",
       "      <td>0</td>\n",
       "    </tr>\n",
       "    <tr>\n",
       "      <th>2</th>\n",
       "      <td>540000265662400</td>\n",
       "      <td>Crop</td>\n",
       "      <td>1.583</td>\n",
       "      <td>2018-04-21 18:46:24</td>\n",
       "      <td>False</td>\n",
       "      <td>2018-04-21 02:01:23</td>\n",
       "      <td>2018-04-21 02:14:14</td>\n",
       "      <td>United States</td>\n",
       "      <td>1.9.6</td>\n",
       "      <td>11.2</td>\n",
       "      <td>UIDeviceKindIPhone8</td>\n",
       "      <td>NaN</td>\n",
       "      <td>0</td>\n",
       "    </tr>\n",
       "    <tr>\n",
       "      <th>3</th>\n",
       "      <td>220000444951653</td>\n",
       "      <td>Vignette</td>\n",
       "      <td>4.668</td>\n",
       "      <td>2018-04-30 14:11:22</td>\n",
       "      <td>False</td>\n",
       "      <td>2018-04-30 12:45:44</td>\n",
       "      <td>2018-04-30 12:57:44</td>\n",
       "      <td>Australia</td>\n",
       "      <td>1.9.6</td>\n",
       "      <td>11.2.5</td>\n",
       "      <td>UIDeviceKindIPhone7Plus</td>\n",
       "      <td>NaN</td>\n",
       "      <td>0</td>\n",
       "    </tr>\n",
       "    <tr>\n",
       "      <th>4</th>\n",
       "      <td>220000444725338</td>\n",
       "      <td>Retouch</td>\n",
       "      <td>185.154</td>\n",
       "      <td>2018-04-29 23:37:34</td>\n",
       "      <td>False</td>\n",
       "      <td>2018-04-29 21:14:23</td>\n",
       "      <td>2018-04-29 22:07:56</td>\n",
       "      <td>United States</td>\n",
       "      <td>1.9.6</td>\n",
       "      <td>11.2.6</td>\n",
       "      <td>UIDeviceKindIPhone6Plus</td>\n",
       "      <td>31.0</td>\n",
       "      <td>0</td>\n",
       "    </tr>\n",
       "  </tbody>\n",
       "</table>\n",
       "</div>"
      ],
      "text/plain": [
       "                id feature_name  usage_duration         end_use_date  \\\n",
       "0   30000429392689      Relight           5.659  2018-04-10 11:18:16   \n",
       "1  440000407817536         Crop           0.984  2018-04-06 16:44:19   \n",
       "2  540000265662400         Crop           1.583  2018-04-21 18:46:24   \n",
       "3  220000444951653     Vignette           4.668  2018-04-30 14:11:22   \n",
       "4  220000444725338      Retouch         185.154  2018-04-29 23:37:34   \n",
       "\n",
       "   accepted   installation_date   subscripiton_date         country  \\\n",
       "0     False 2018-02-26 07:01:08 2018-04-08 09:38:19       Australia   \n",
       "1     False 2017-07-21 20:04:15 2018-04-05 22:39:32  United Kingdom   \n",
       "2     False 2018-04-21 02:01:23 2018-04-21 02:14:14   United States   \n",
       "3     False 2018-04-30 12:45:44 2018-04-30 12:57:44       Australia   \n",
       "4     False 2018-04-29 21:14:23 2018-04-29 22:07:56   United States   \n",
       "\n",
       "  initial_app_version initial_ios_version           initial_device  \\\n",
       "0               1.9.6              11.2.6      UIDeviceKindIPhoneX   \n",
       "1               1.9.6              11.2.5      UIDeviceKindIPhoneX   \n",
       "2               1.9.6                11.2      UIDeviceKindIPhone8   \n",
       "3               1.9.6              11.2.5  UIDeviceKindIPhone7Plus   \n",
       "4               1.9.6              11.2.6  UIDeviceKindIPhone6Plus   \n",
       "\n",
       "   days_until_churn  churned  \n",
       "0               NaN        0  \n",
       "1               NaN        0  \n",
       "2               NaN        0  \n",
       "3               NaN        0  \n",
       "4              31.0        0  "
      ]
     },
     "execution_count": 11,
     "metadata": {},
     "output_type": "execute_result"
    }
   ],
   "source": [
    "joined_df.head()"
   ]
  },
  {
   "cell_type": "code",
   "execution_count": 12,
   "metadata": {},
   "outputs": [
    {
     "data": {
      "text/plain": [
       "Text(0.5, 1.0, 'Most used features, churned=0')"
      ]
     },
     "execution_count": 12,
     "metadata": {},
     "output_type": "execute_result"
    },
    {
     "data": {
      "image/png": "[encoded data removed]",
      "text/plain": [
       "<Figure size 1224x864 with 2 Axes>"
      ]
     },
     "metadata": {
      "needs_background": "light"
     },
     "output_type": "display_data"
    }
   ],
   "source": [
    "#What are the most popular features, within each class:\n",
    "\n",
    "total_number_of_usage_per_feature = df_usage['feature_name'].value_counts()\n",
    "\n",
    "\n",
    "\n",
    "k = 10\n",
    "top_k_features_churned = joined_df[joined_df['churned']==True]['feature_name'].value_counts().index[:k]\n",
    "top_k_features_not_churned = joined_df[joined_df['churned']==False]['feature_name'].value_counts().index[:k]\n",
    "\n",
    "\n",
    "fig, ax = plt.subplots(2,1, figsize=(17,12))\n",
    "df_churned = joined_df[joined_df['churned']==True]\n",
    "p = sns.countplot(data=df_churned[df_churned['feature_name'].isin(top_k_features_churned)], x='feature_name', order = top_k_features_churned, ax=ax[0])\n",
    "\n",
    "df_not_churned = joined_df[joined_df['churned']==False]\n",
    "q = sns.countplot(data=df_not_churned[df_not_churned['feature_name'].isin(top_k_features_not_churned)], x='feature_name', order = top_k_features_not_churned, ax=ax[1])\n",
    "\n",
    "ax[0].set_title('Most used features, churned=1')\n",
    "ax[1].set_title('Most used features, churned=0')"
   ]
  },
  {
   "cell_type": "code",
   "execution_count": 13,
   "metadata": {},
   "outputs": [
    {
     "data": {
      "text/plain": [
       "<matplotlib.axes._subplots.AxesSubplot at 0x1a167fc8d0>"
      ]
     },
     "execution_count": 13,
     "metadata": {},
     "output_type": "execute_result"
    },
    {
     "data": {
      "image/png": "[encoded data removed]",
      "text/plain": [
       "<Figure size 432x288 with 1 Axes>"
      ]
     },
     "metadata": {
      "needs_background": "light"
     },
     "output_type": "display_data"
    }
   ],
   "source": [
    "joined_df.groupby(['id', 'churned'])[['accepted']].mean().boxplot(by='churned')"
   ]
  },
  {
   "cell_type": "code",
   "execution_count": 14,
   "metadata": {},
   "outputs": [
    {
     "data": {
      "image/png": "[encoded data removed]",
      "text/plain": [
       "<Figure size 432x288 with 2 Axes>"
      ]
     },
     "metadata": {
      "needs_background": "light"
     },
     "output_type": "display_data"
    }
   ],
   "source": [
    "#device analysis: ipad users are more likely to churn\n",
    "grouped = df_users.groupby(['initial_device'])\n",
    "avg_churn = grouped[['churned']].mean().rename(columns={'churned' : 'Average Churn'})\n",
    "group_size = grouped[['id']].count().rename(columns={'id' : 'Category Size'})\n",
    "avg_churn = avg_churn.join(group_size, on='initial_device', how='left')\n",
    "avg_churn.sort_values('Category Size', ascending=False).plot.bar(subplots=True, fontsize=12);"
   ]
  },
  {
   "cell_type": "code",
   "execution_count": 15,
   "metadata": {},
   "outputs": [
    {
     "data": {
      "image/png": "[encoded data removed]",
      "text/plain": [
       "<Figure size 432x288 with 1 Axes>"
      ]
     },
     "metadata": {
      "needs_background": "light"
     },
     "output_type": "display_data"
    }
   ],
   "source": [
    "#user seniority analysis (based on installation date): users intalled app in 2018 are more likely to churn\n",
    "user_seniority = df_users.loc[:,('id','churned','installation_date')]\n",
    "user_seniority['installation_date'] = user_seniority.installation_date.dt.to_period('M')\n",
    "user_seniority = user_seniority.groupby('installation_date')['churned'].mean().to_frame()\n",
    "user_seniority.sort_values('installation_date', ascending=False).plot.bar(subplots=False);"
   ]
  },
  {
   "cell_type": "code",
   "execution_count": null,
   "metadata": {},
   "outputs": [],
   "source": []
  },
  {
   "cell_type": "code",
   "execution_count": 16,
   "metadata": {},
   "outputs": [
    {
     "data": {
      "image/png": "[encoded data removed]",
      "text/plain": [
       "<Figure size 432x288 with 1 Axes>"
      ]
     },
     "metadata": {
      "needs_background": "light"
     },
     "output_type": "display_data"
    }
   ],
   "source": [
    "#Daily usage analysis: the more days the app is used - the user is likely to stay\n",
    "def analyze_daily_engagement(_df_usage):\n",
    "    user_engagement = _df_usage.loc[:,('id','end_use_date')]\n",
    "    user_engagement['end_use_date'] = pd.to_datetime(user_engagement['end_use_date'])\n",
    "    user_engagement['end_use_date'] = user_engagement.end_use_date.dt.to_period('D')\n",
    "    user_engagement.drop_duplicates(inplace=True)\n",
    "    daily_engagement = user_engagement.groupby(['id'])['end_use_date'].count().to_frame().reset_index()\n",
    "    daily_engagement.rename(columns={'end_use_date' : 'days_used'}, inplace=True)\n",
    "    return daily_engagement\n",
    "\n",
    "user_daily_engagement = analyze_daily_engagement(df_usage)\n",
    "user_daily_engagement = user_daily_engagement.merge(df_users.set_index('id')[['churned']], on='id')\n",
    "grouped = user_daily_engagement.groupby(['days_used'])\n",
    "mean_churn = grouped['churned'].mean().reset_index()\n",
    "group_size = grouped['id'].count().to_frame()\n",
    "mean_churn.plot.scatter(x='days_used', y='churned', s=group_size, rot=1);"
   ]
  },
  {
   "cell_type": "code",
   "execution_count": 17,
   "metadata": {},
   "outputs": [
    {
     "data": {
      "text/plain": [
       "<matplotlib.axes._subplots.AxesSubplot at 0x1a1a592160>"
      ]
     },
     "execution_count": 17,
     "metadata": {},
     "output_type": "execute_result"
    },
    {
     "data": {
      "image/png": "[encoded data removed]",
      "text/plain": [
       "<Figure size 432x288 with 1 Axes>"
      ]
     },
     "metadata": {
      "needs_background": "light"
     },
     "output_type": "display_data"
    }
   ],
   "source": [
    "# usage duration analysis: \n",
    "def analyze_usage_duration(_df_usage):\n",
    "    usage_duration = _df_usage.loc[:,('id','usage_duration')]\n",
    "    usage_duration = usage_duration.groupby(['id'])['usage_duration'].quantile(0.70).to_frame()\n",
    "    usage_duration['usage_duration'] = pd.qcut(usage_duration['usage_duration'], 10, labels=False)\n",
    "    return usage_duration\n",
    "\n",
    "user_speed = analyze_usage_duration(df_usage).merge(df_users.set_index('id')[['churned']], on='id')\n",
    "user_speed = user_speed.groupby(['usage_duration'])['churned'].mean().reset_index()\n",
    "user_speed.set_index('usage_duration').plot.line()"
   ]
  },
  {
   "cell_type": "markdown",
   "metadata": {},
   "source": [
    "# Creating our input data:"
   ]
  },
  {
   "cell_type": "code",
   "execution_count": 18,
   "metadata": {},
   "outputs": [
    {
     "data": {
      "text/html": [
       "<div>\n",
       "<style scoped>\n",
       "    .dataframe tbody tr th:only-of-type {\n",
       "        vertical-align: middle;\n",
       "    }\n",
       "\n",
       "    .dataframe tbody tr th {\n",
       "        vertical-align: top;\n",
       "    }\n",
       "\n",
       "    .dataframe thead th {\n",
       "        text-align: right;\n",
       "    }\n",
       "</style>\n",
       "<table border=\"1\" class=\"dataframe\">\n",
       "  <thead>\n",
       "    <tr style=\"text-align: right;\">\n",
       "      <th></th>\n",
       "      <th>Adjust</th>\n",
       "      <th>Backdrop</th>\n",
       "      <th>Crop</th>\n",
       "      <th>Darkroom</th>\n",
       "      <th>Defocus</th>\n",
       "      <th>Eyes</th>\n",
       "      <th>Face</th>\n",
       "      <th>Filters</th>\n",
       "      <th>Light FX</th>\n",
       "      <th>Paint</th>\n",
       "      <th>...</th>\n",
       "      <th>Reshape</th>\n",
       "      <th>Retouch</th>\n",
       "      <th>Touch Up</th>\n",
       "      <th>Vignette</th>\n",
       "      <th>accepted</th>\n",
       "      <th>is_ipad_device</th>\n",
       "      <th>user_seniority</th>\n",
       "      <th>days_used</th>\n",
       "      <th>usage_duration</th>\n",
       "      <th>churned</th>\n",
       "    </tr>\n",
       "    <tr>\n",
       "      <th>id</th>\n",
       "      <th></th>\n",
       "      <th></th>\n",
       "      <th></th>\n",
       "      <th></th>\n",
       "      <th></th>\n",
       "      <th></th>\n",
       "      <th></th>\n",
       "      <th></th>\n",
       "      <th></th>\n",
       "      <th></th>\n",
       "      <th></th>\n",
       "      <th></th>\n",
       "      <th></th>\n",
       "      <th></th>\n",
       "      <th></th>\n",
       "      <th></th>\n",
       "      <th></th>\n",
       "      <th></th>\n",
       "      <th></th>\n",
       "      <th></th>\n",
       "      <th></th>\n",
       "    </tr>\n",
       "  </thead>\n",
       "  <tbody>\n",
       "    <tr>\n",
       "      <th>20000443246052</th>\n",
       "      <td>1</td>\n",
       "      <td>0</td>\n",
       "      <td>14</td>\n",
       "      <td>2</td>\n",
       "      <td>1</td>\n",
       "      <td>1</td>\n",
       "      <td>0</td>\n",
       "      <td>0</td>\n",
       "      <td>17</td>\n",
       "      <td>6</td>\n",
       "      <td>...</td>\n",
       "      <td>5</td>\n",
       "      <td>10</td>\n",
       "      <td>3</td>\n",
       "      <td>25</td>\n",
       "      <td>0.600000</td>\n",
       "      <td>0</td>\n",
       "      <td>4</td>\n",
       "      <td>6</td>\n",
       "      <td>2</td>\n",
       "      <td>0</td>\n",
       "    </tr>\n",
       "    <tr>\n",
       "      <th>20000443252617</th>\n",
       "      <td>2</td>\n",
       "      <td>2</td>\n",
       "      <td>0</td>\n",
       "      <td>7</td>\n",
       "      <td>0</td>\n",
       "      <td>0</td>\n",
       "      <td>0</td>\n",
       "      <td>0</td>\n",
       "      <td>16</td>\n",
       "      <td>1</td>\n",
       "      <td>...</td>\n",
       "      <td>0</td>\n",
       "      <td>4</td>\n",
       "      <td>3</td>\n",
       "      <td>14</td>\n",
       "      <td>0.409836</td>\n",
       "      <td>0</td>\n",
       "      <td>2</td>\n",
       "      <td>5</td>\n",
       "      <td>3</td>\n",
       "      <td>0</td>\n",
       "    </tr>\n",
       "    <tr>\n",
       "      <th>20000443310150</th>\n",
       "      <td>2</td>\n",
       "      <td>0</td>\n",
       "      <td>0</td>\n",
       "      <td>9</td>\n",
       "      <td>0</td>\n",
       "      <td>3</td>\n",
       "      <td>1</td>\n",
       "      <td>0</td>\n",
       "      <td>3</td>\n",
       "      <td>1</td>\n",
       "      <td>...</td>\n",
       "      <td>0</td>\n",
       "      <td>6</td>\n",
       "      <td>0</td>\n",
       "      <td>3</td>\n",
       "      <td>0.290323</td>\n",
       "      <td>0</td>\n",
       "      <td>0</td>\n",
       "      <td>1</td>\n",
       "      <td>9</td>\n",
       "      <td>0</td>\n",
       "    </tr>\n",
       "    <tr>\n",
       "      <th>20000443367561</th>\n",
       "      <td>0</td>\n",
       "      <td>0</td>\n",
       "      <td>0</td>\n",
       "      <td>0</td>\n",
       "      <td>0</td>\n",
       "      <td>0</td>\n",
       "      <td>0</td>\n",
       "      <td>0</td>\n",
       "      <td>1</td>\n",
       "      <td>0</td>\n",
       "      <td>...</td>\n",
       "      <td>0</td>\n",
       "      <td>0</td>\n",
       "      <td>0</td>\n",
       "      <td>0</td>\n",
       "      <td>1.000000</td>\n",
       "      <td>0</td>\n",
       "      <td>0</td>\n",
       "      <td>1</td>\n",
       "      <td>9</td>\n",
       "      <td>0</td>\n",
       "    </tr>\n",
       "    <tr>\n",
       "      <th>20000443405819</th>\n",
       "      <td>0</td>\n",
       "      <td>0</td>\n",
       "      <td>0</td>\n",
       "      <td>0</td>\n",
       "      <td>0</td>\n",
       "      <td>0</td>\n",
       "      <td>0</td>\n",
       "      <td>0</td>\n",
       "      <td>0</td>\n",
       "      <td>0</td>\n",
       "      <td>...</td>\n",
       "      <td>0</td>\n",
       "      <td>1</td>\n",
       "      <td>0</td>\n",
       "      <td>3</td>\n",
       "      <td>0.500000</td>\n",
       "      <td>0</td>\n",
       "      <td>7</td>\n",
       "      <td>1</td>\n",
       "      <td>9</td>\n",
       "      <td>0</td>\n",
       "    </tr>\n",
       "    <tr>\n",
       "      <th>20000443434193</th>\n",
       "      <td>0</td>\n",
       "      <td>0</td>\n",
       "      <td>0</td>\n",
       "      <td>0</td>\n",
       "      <td>0</td>\n",
       "      <td>0</td>\n",
       "      <td>0</td>\n",
       "      <td>0</td>\n",
       "      <td>1</td>\n",
       "      <td>0</td>\n",
       "      <td>...</td>\n",
       "      <td>0</td>\n",
       "      <td>0</td>\n",
       "      <td>0</td>\n",
       "      <td>3</td>\n",
       "      <td>0.750000</td>\n",
       "      <td>0</td>\n",
       "      <td>0</td>\n",
       "      <td>1</td>\n",
       "      <td>7</td>\n",
       "      <td>0</td>\n",
       "    </tr>\n",
       "    <tr>\n",
       "      <th>20000443469779</th>\n",
       "      <td>12</td>\n",
       "      <td>7</td>\n",
       "      <td>7</td>\n",
       "      <td>2</td>\n",
       "      <td>0</td>\n",
       "      <td>6</td>\n",
       "      <td>4</td>\n",
       "      <td>1</td>\n",
       "      <td>21</td>\n",
       "      <td>4</td>\n",
       "      <td>...</td>\n",
       "      <td>7</td>\n",
       "      <td>7</td>\n",
       "      <td>7</td>\n",
       "      <td>11</td>\n",
       "      <td>0.700000</td>\n",
       "      <td>0</td>\n",
       "      <td>5</td>\n",
       "      <td>2</td>\n",
       "      <td>7</td>\n",
       "      <td>0</td>\n",
       "    </tr>\n",
       "    <tr>\n",
       "      <th>20000443895994</th>\n",
       "      <td>0</td>\n",
       "      <td>0</td>\n",
       "      <td>2</td>\n",
       "      <td>0</td>\n",
       "      <td>1</td>\n",
       "      <td>0</td>\n",
       "      <td>2</td>\n",
       "      <td>0</td>\n",
       "      <td>27</td>\n",
       "      <td>1</td>\n",
       "      <td>...</td>\n",
       "      <td>0</td>\n",
       "      <td>3</td>\n",
       "      <td>7</td>\n",
       "      <td>11</td>\n",
       "      <td>0.507692</td>\n",
       "      <td>0</td>\n",
       "      <td>0</td>\n",
       "      <td>6</td>\n",
       "      <td>3</td>\n",
       "      <td>0</td>\n",
       "    </tr>\n",
       "    <tr>\n",
       "      <th>20000444138744</th>\n",
       "      <td>1</td>\n",
       "      <td>0</td>\n",
       "      <td>0</td>\n",
       "      <td>0</td>\n",
       "      <td>0</td>\n",
       "      <td>0</td>\n",
       "      <td>1</td>\n",
       "      <td>1</td>\n",
       "      <td>4</td>\n",
       "      <td>0</td>\n",
       "      <td>...</td>\n",
       "      <td>0</td>\n",
       "      <td>0</td>\n",
       "      <td>3</td>\n",
       "      <td>9</td>\n",
       "      <td>0.600000</td>\n",
       "      <td>0</td>\n",
       "      <td>0</td>\n",
       "      <td>1</td>\n",
       "      <td>7</td>\n",
       "      <td>1</td>\n",
       "    </tr>\n",
       "    <tr>\n",
       "      <th>20000444141622</th>\n",
       "      <td>0</td>\n",
       "      <td>0</td>\n",
       "      <td>0</td>\n",
       "      <td>0</td>\n",
       "      <td>0</td>\n",
       "      <td>0</td>\n",
       "      <td>0</td>\n",
       "      <td>0</td>\n",
       "      <td>1</td>\n",
       "      <td>0</td>\n",
       "      <td>...</td>\n",
       "      <td>0</td>\n",
       "      <td>0</td>\n",
       "      <td>0</td>\n",
       "      <td>2</td>\n",
       "      <td>0.333333</td>\n",
       "      <td>0</td>\n",
       "      <td>4</td>\n",
       "      <td>1</td>\n",
       "      <td>8</td>\n",
       "      <td>0</td>\n",
       "    </tr>\n",
       "  </tbody>\n",
       "</table>\n",
       "<p>10 rows × 23 columns</p>\n",
       "</div>"
      ],
      "text/plain": [
       "                Adjust  Backdrop  Crop  Darkroom  Defocus  Eyes  Face  \\\n",
       "id                                                                      \n",
       "20000443246052       1         0    14         2        1     1     0   \n",
       "20000443252617       2         2     0         7        0     0     0   \n",
       "20000443310150       2         0     0         9        0     3     1   \n",
       "20000443367561       0         0     0         0        0     0     0   \n",
       "20000443405819       0         0     0         0        0     0     0   \n",
       "20000443434193       0         0     0         0        0     0     0   \n",
       "20000443469779      12         7     7         2        0     6     4   \n",
       "20000443895994       0         0     2         0        1     0     2   \n",
       "20000444138744       1         0     0         0        0     0     1   \n",
       "20000444141622       0         0     0         0        0     0     0   \n",
       "\n",
       "                Filters  Light FX  Paint   ...     Reshape  Retouch  Touch Up  \\\n",
       "id                                         ...                                  \n",
       "20000443246052        0        17      6   ...           5       10         3   \n",
       "20000443252617        0        16      1   ...           0        4         3   \n",
       "20000443310150        0         3      1   ...           0        6         0   \n",
       "20000443367561        0         1      0   ...           0        0         0   \n",
       "20000443405819        0         0      0   ...           0        1         0   \n",
       "20000443434193        0         1      0   ...           0        0         0   \n",
       "20000443469779        1        21      4   ...           7        7         7   \n",
       "20000443895994        0        27      1   ...           0        3         7   \n",
       "20000444138744        1         4      0   ...           0        0         3   \n",
       "20000444141622        0         1      0   ...           0        0         0   \n",
       "\n",
       "                Vignette  accepted  is_ipad_device  user_seniority  days_used  \\\n",
       "id                                                                              \n",
       "20000443246052        25  0.600000               0               4          6   \n",
       "20000443252617        14  0.409836               0               2          5   \n",
       "20000443310150         3  0.290323               0               0          1   \n",
       "20000443367561         0  1.000000               0               0          1   \n",
       "20000443405819         3  0.500000               0               7          1   \n",
       "20000443434193         3  0.750000               0               0          1   \n",
       "20000443469779        11  0.700000               0               5          2   \n",
       "20000443895994        11  0.507692               0               0          6   \n",
       "20000444138744         9  0.600000               0               0          1   \n",
       "20000444141622         2  0.333333               0               4          1   \n",
       "\n",
       "                usage_duration  churned  \n",
       "id                                       \n",
       "20000443246052               2        0  \n",
       "20000443252617               3        0  \n",
       "20000443310150               9        0  \n",
       "20000443367561               9        0  \n",
       "20000443405819               9        0  \n",
       "20000443434193               7        0  \n",
       "20000443469779               7        0  \n",
       "20000443895994               3        0  \n",
       "20000444138744               7        1  \n",
       "20000444141622               8        0  \n",
       "\n",
       "[10 rows x 23 columns]"
      ]
     },
     "execution_count": 18,
     "metadata": {},
     "output_type": "execute_result"
    }
   ],
   "source": [
    "#Let's create a table with statistic summaries: rows correspond to users; columns to various statistics:\n",
    "def is_ipad(device):\n",
    "    return 1 if device.startswith('UIDeviceKindIPad') else 0\n",
    "\n",
    "def user_seniority(installation_date):\n",
    "    from datetime import datetime\n",
    "    from dateutil import relativedelta\n",
    "    seniority = relativedelta.relativedelta(datetime.strptime(str('2018-04-01'),'%Y-%m-%d'), installation_date)\n",
    "    return seniority.months\n",
    "\n",
    "def prepare_features(_df_users, _df_usage, _user_daily_engagement=None):\n",
    "    features = pd.pivot_table(_df_usage[['id', 'feature_name']], index=['id'], columns=['feature_name'], aggfunc=len, fill_value=0)\n",
    "    \n",
    "    #Let's add the mean of 'accepted' for each user:\n",
    "    accepted_rate = _df_usage.groupby(['id'])['accepted'].mean().to_frame()\n",
    "    features = features.join(accepted_rate, how='left')\n",
    "    \n",
    "    #add iphone/ipad users\n",
    "    _df_users['is_ipad_device'] = _df_users['initial_device'].apply(is_ipad)\n",
    "    _df_users['user_seniority'] = _df_users['installation_date'].apply(user_seniority)\n",
    "    features = features.merge(_df_users.set_index('id')[['is_ipad_device','user_seniority']], on='id', how='left')\n",
    "    \n",
    "    #add user daily engagement\n",
    "    if _user_daily_engagement is None:\n",
    "        _user_daily_engagement = analyze_daily_engagement(_df_usage)\n",
    "    features = features.merge(_user_daily_engagement.set_index('id')[['days_used']], on='id', how='left')\n",
    "    \n",
    "    #add user's usage duration level\n",
    "    features = features.merge(analyze_usage_duration(_df_usage)[['usage_duration']], on='id', how='left')\n",
    "    \n",
    "    return features\n",
    "\n",
    "users_usage_summaries = prepare_features(df_users, df_usage, user_daily_engagement)\n",
    "\n",
    "#Add churn label to the training data\n",
    "users_usage_summaries = users_usage_summaries.merge(df_users.set_index('id')[['churned']], on='id', how='left')\n",
    "\n",
    "#This is how our df looks like:\n",
    "users_usage_summaries.head(10)\n"
   ]
  },
  {
   "cell_type": "markdown",
   "metadata": {},
   "source": [
    "# Learn a decision tree:"
   ]
  },
  {
   "cell_type": "code",
   "execution_count": 19,
   "metadata": {},
   "outputs": [],
   "source": [
    "X = users_usage_summaries.iloc[:, users_usage_summaries.columns!='churned'].values\n",
    "y = users_usage_summaries.loc[:,'churned'].values\n",
    "\n",
    "X_train, X_val, y_train, y_val = train_test_split(X, y, random_state=0, test_size=0.1)"
   ]
  },
  {
   "cell_type": "code",
   "execution_count": 20,
   "metadata": {},
   "outputs": [
    {
     "data": {
      "text/plain": [
       "array([0.00852012, 0.02174542, 0.1379568 , 0.01161577, 0.01116117,\n",
       "       0.01332985, 0.03115857, 0.03452354, 0.07028451, 0.02975886,\n",
       "       0.0026552 , 0.01094276, 0.0433687 , 0.02887933, 0.04541329,\n",
       "       0.0241554 , 0.04930482, 0.14592155, 0.02327039, 0.0873726 ,\n",
       "       0.12951463, 0.03914671])"
      ]
     },
     "execution_count": 20,
     "metadata": {},
     "output_type": "execute_result"
    }
   ],
   "source": [
    "# algo=tree.DecisionTreeClassifier(class_weight='balanced', max_depth=3, min_samples_split=5, min_samples_leaf=2, random_state=0)\n",
    "algo=ensemble.RandomForestClassifier(class_weight='balanced', n_estimators=100, max_depth=2, random_state=0)\n",
    "train = algo.fit(X_train, y_train)\n",
    "res=train.predict(X_val)\n",
    "algo.feature_importances_"
   ]
  },
  {
   "cell_type": "code",
   "execution_count": 21,
   "metadata": {},
   "outputs": [
    {
     "name": "stdout",
     "output_type": "stream",
     "text": [
      "[[327 297]\n",
      " [ 29  47]]\n",
      "              precision    recall  f1-score   support\n",
      "\n",
      "           0       0.93      0.54      0.68      5651\n",
      "           1       0.14      0.65      0.23       647\n",
      "\n",
      "   micro avg       0.55      0.55      0.55      6298\n",
      "   macro avg       0.53      0.59      0.46      6298\n",
      "weighted avg       0.85      0.55      0.64      6298\n",
      "\n",
      "              precision    recall  f1-score   support\n",
      "\n",
      "           0       0.92      0.52      0.67       624\n",
      "           1       0.14      0.62      0.22        76\n",
      "\n",
      "   micro avg       0.53      0.53      0.53       700\n",
      "   macro avg       0.53      0.57      0.45       700\n",
      "weighted avg       0.83      0.53      0.62       700\n",
      "\n",
      "0.22381\n"
     ]
    }
   ],
   "source": [
    "#Let's check the confusion matrix:\n",
    "cm = metrics.confusion_matrix(y_val, res)\n",
    "print(cm)\n",
    "res_train = train.predict(X_train)\n",
    "print(classification_report(y_pred=res_train,y_true=y_train))\n",
    "print(classification_report(y_pred=res,y_true=y_val))\n",
    "# print only f1 score for positive\n",
    "print(np.round(f1_score(y_pred=res,y_true=y_val),5))"
   ]
  },
  {
   "cell_type": "code",
   "execution_count": 22,
   "metadata": {},
   "outputs": [],
   "source": [
    "#test your predictor:\n",
    "\n",
    "#1.Prepare your test-set (in case you created new features/transformed the input data):\n",
    "df_usage_test = pd.read_csv(\"test_usage_data.csv\")\n",
    "df_users_test = pd.read_csv(path + \"test_users_data.csv\",parse_dates = [ 'installation_date','subscripiton_date'])\n",
    "df_users_test = df_users_test.drop(columns='Unnamed: 0')\n",
    "\n",
    "#prepare the feaures as in the training set\n",
    "users_usage_summaries_test = prepare_features(df_users_test, df_usage_test)\n",
    "\n",
    "X_test = users_usage_summaries_test.values"
   ]
  },
  {
   "cell_type": "code",
   "execution_count": 23,
   "metadata": {},
   "outputs": [],
   "source": [
    "#submit result:\n",
    "pred = train.predict(X_test)\n",
    "df = pd.DataFrame(pred, index=users_usage_summaries_test.index.astype(str), columns=['churned'], dtype=str)\n",
    "df.to_csv(out_name, header=True, quoting=csv.QUOTE_NONNUMERIC) "
   ]
  },
  {
   "cell_type": "code",
   "execution_count": null,
   "metadata": {},
   "outputs": [],
   "source": []
  },
  {
   "cell_type": "code",
   "execution_count": null,
   "metadata": {},
   "outputs": [],
   "source": []
  }
 ],
 "metadata": {
  "kernelspec": {
   "display_name": "datahack",
   "language": "python",
   "name": "datahack"
  },
  "language_info": {
   "codemirror_mode": {
    "name": "ipython",
    "version": 3
   },
   "file_extension": ".py",
   "mimetype": "text/x-python",
   "name": "python",
   "nbconvert_exporter": "python",
   "pygments_lexer": "ipython3",
   "version": "3.6.6"
  }
 },
 "nbformat": 4,
 "nbformat_minor": 2
}
